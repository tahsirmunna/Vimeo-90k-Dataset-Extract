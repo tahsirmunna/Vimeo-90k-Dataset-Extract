{
 "cells": [
  {
   "cell_type": "code",
   "execution_count": 3,
   "id": "8695dbaa",
   "metadata": {},
   "outputs": [],
   "source": [
    "import pandas as pd\n",
    "from pathlib import Path\n",
    "import os\n",
    "from PIL import Image "
   ]
  },
  {
   "cell_type": "code",
   "execution_count": 14,
   "id": "9dc8d50c",
   "metadata": {},
   "outputs": [],
   "source": [
    "train=pd.read_csv(\"tri_trainlist.txt\", sep=\" \", header=None)\n",
    "test=pd.read_csv(\"tri_testlist.txt\", sep=\" \", header=None)"
   ]
  },
  {
   "cell_type": "markdown",
   "id": "caca800e",
   "metadata": {},
   "source": [
    "### Extracting training image"
   ]
  },
  {
   "cell_type": "code",
   "execution_count": 5,
   "id": "91e9d279",
   "metadata": {},
   "outputs": [
    {
     "data": {
      "text/html": [
       "<div>\n",
       "<style scoped>\n",
       "    .dataframe tbody tr th:only-of-type {\n",
       "        vertical-align: middle;\n",
       "    }\n",
       "\n",
       "    .dataframe tbody tr th {\n",
       "        vertical-align: top;\n",
       "    }\n",
       "\n",
       "    .dataframe thead th {\n",
       "        text-align: right;\n",
       "    }\n",
       "</style>\n",
       "<table border=\"1\" class=\"dataframe\">\n",
       "  <thead>\n",
       "    <tr style=\"text-align: right;\">\n",
       "      <th></th>\n",
       "      <th>0</th>\n",
       "    </tr>\n",
       "  </thead>\n",
       "  <tbody>\n",
       "    <tr>\n",
       "      <th>0</th>\n",
       "      <td>00001/0001</td>\n",
       "    </tr>\n",
       "    <tr>\n",
       "      <th>1</th>\n",
       "      <td>00001/0002</td>\n",
       "    </tr>\n",
       "    <tr>\n",
       "      <th>2</th>\n",
       "      <td>00001/0003</td>\n",
       "    </tr>\n",
       "    <tr>\n",
       "      <th>3</th>\n",
       "      <td>00001/0004</td>\n",
       "    </tr>\n",
       "    <tr>\n",
       "      <th>4</th>\n",
       "      <td>00001/0005</td>\n",
       "    </tr>\n",
       "  </tbody>\n",
       "</table>\n",
       "</div>"
      ],
      "text/plain": [
       "            0\n",
       "0  00001/0001\n",
       "1  00001/0002\n",
       "2  00001/0003\n",
       "3  00001/0004\n",
       "4  00001/0005"
      ]
     },
     "execution_count": 5,
     "metadata": {},
     "output_type": "execute_result"
    }
   ],
   "source": [
    "train.head()"
   ]
  },
  {
   "cell_type": "code",
   "execution_count": 6,
   "id": "fab8b4a9",
   "metadata": {},
   "outputs": [
    {
     "data": {
      "text/plain": [
       "(51313, 1)"
      ]
     },
     "execution_count": 6,
     "metadata": {},
     "output_type": "execute_result"
    }
   ],
   "source": [
    "train.shape"
   ]
  },
  {
   "cell_type": "code",
   "execution_count": 7,
   "id": "8f04c2df",
   "metadata": {},
   "outputs": [
    {
     "data": {
      "text/plain": [
       "153939"
      ]
     },
     "execution_count": 7,
     "metadata": {},
     "output_type": "execute_result"
    }
   ],
   "source": [
    "51313*3"
   ]
  },
  {
   "cell_type": "code",
   "execution_count": 8,
   "id": "7b244cde",
   "metadata": {},
   "outputs": [
    {
     "data": {
      "text/plain": [
       "0        00001/0001\n",
       "1        00001/0002\n",
       "2        00001/0003\n",
       "3        00001/0004\n",
       "4        00001/0005\n",
       "            ...    \n",
       "51308    00078/0630\n",
       "51309    00078/0631\n",
       "51310    00078/0632\n",
       "51311    00078/0633\n",
       "51312    00078/0634\n",
       "Name: 0, Length: 51313, dtype: object"
      ]
     },
     "execution_count": 8,
     "metadata": {},
     "output_type": "execute_result"
    }
   ],
   "source": [
    "train[0]"
   ]
  },
  {
   "cell_type": "code",
   "execution_count": null,
   "id": "74047003",
   "metadata": {},
   "outputs": [],
   "source": [
    "count=1 #This counter for counting the images\n",
    "\n",
    "for i in train[0]:\n",
    "    #This loop find the all image in the folder that mention in trainlist.txt file\n",
    "    \n",
    "    org_images = '/media/tahsir/FA5A03875A03403D/DATASET/vimeo_triplet/sequences/'+str(i)+'/'\n",
    "    path_to_save_image='/media/tahsir/FA5A03875A03403D/DATASET/vimeo_triplet/train'\n",
    "    org_images_name_list=os.listdir(org_images)\n",
    "    \n",
    "    images = glob.glob(str(org_images)+'*.png') #take the all image\n",
    "    image_no = 0 #take the triple (3 images from each folder)\n",
    "    \n",
    "    for image in images:\n",
    "        \n",
    "        with open(image,\"rb\") as file:\n",
    "            img = Image.open(file) #get the images\n",
    "            name = org_images_name_list[image_no][:-4]+'_'+str(count)+ '.png' # get the name of images\n",
    "            file_path = os.path.join(path_to_save_image, name) # path to save the images in the in the train forlder\n",
    "            img.save(file_path , 'png') #save the image as .png file\n",
    "            image_no += 1\n",
    "            print(count)\n",
    "            \n",
    "            count +=1\n",
    "\n"
   ]
  },
  {
   "cell_type": "markdown",
   "id": "76af896c",
   "metadata": {},
   "source": [
    "### Extracting test image"
   ]
  },
  {
   "cell_type": "code",
   "execution_count": 11,
   "id": "40376c22",
   "metadata": {},
   "outputs": [
    {
     "data": {
      "text/plain": [
       "(3782, 1)"
      ]
     },
     "execution_count": 11,
     "metadata": {},
     "output_type": "execute_result"
    }
   ],
   "source": [
    "test.shape"
   ]
  },
  {
   "cell_type": "code",
   "execution_count": 12,
   "id": "fe7c72da",
   "metadata": {},
   "outputs": [
    {
     "data": {
      "text/plain": [
       "11346"
      ]
     },
     "execution_count": 12,
     "metadata": {},
     "output_type": "execute_result"
    }
   ],
   "source": [
    "3782*3"
   ]
  },
  {
   "cell_type": "code",
   "execution_count": null,
   "id": "49146d52",
   "metadata": {},
   "outputs": [],
   "source": [
    "count=1 #This counter for counting the images\n",
    "\n",
    "for i in train[0]:\n",
    "    #This loop find the all image in the folder that mention in trainlist.txt file\n",
    "    \n",
    "    org_images = '/media/tahsir/FA5A03875A03403D/DATASET/vimeo_triplet/sequences/'+str(i)+'/'\n",
    "    path_to_save_image='/media/tahsir/FA5A03875A03403D/DATASET/vimeo_triplet/test'\n",
    "    org_images_name_list=os.listdir(org_images)\n",
    "    \n",
    "    images = glob.glob(str(org_images)+'*.png') #take the all image\n",
    "    image_no = 0 #take the triple (3 images from each folder)\n",
    "    \n",
    "    for image in images:\n",
    "        \n",
    "        with open(image,\"rb\") as file:\n",
    "            img = Image.open(file) #get the images\n",
    "            name = org_images_name_list[image_no][:-4]+'_'+str(count)+ '.png' # get the name of images\n",
    "            file_path = os.path.join(path_to_save_image, name) # path to save the images in the in the test forlder\n",
    "            img.save(file_path , 'png') #save the image as .png file\n",
    "            image_no += 1\n",
    "            print(count)\n",
    "            \n",
    "            count +=1\n"
   ]
  }
 ],
 "metadata": {
  "kernelspec": {
   "display_name": "Python 3 (ipykernel)",
   "language": "python",
   "name": "python3"
  },
  "language_info": {
   "codemirror_mode": {
    "name": "ipython",
    "version": 3
   },
   "file_extension": ".py",
   "mimetype": "text/x-python",
   "name": "python",
   "nbconvert_exporter": "python",
   "pygments_lexer": "ipython3",
   "version": "3.9.7"
  }
 },
 "nbformat": 4,
 "nbformat_minor": 5
}
